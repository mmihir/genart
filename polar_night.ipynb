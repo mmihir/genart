{
 "cells": [
  {
   "cell_type": "code",
   "execution_count": 9,
   "metadata": {},
   "outputs": [],
   "source": [
    "import drawSvg as draw\n",
    "import random\n",
    "\n",
    "_DISPLAY_INLINE = True"
   ]
  },
  {
   "cell_type": "code",
   "execution_count": 10,
   "metadata": {},
   "outputs": [],
   "source": [
    "# Draw the blank canvas, with black fill\n",
    "d = draw.Drawing(600, 800, origin=(0, 0), displayInline=False)\n",
    "d.append(draw.Lines(0,0,0,800,600,800,600,0, close=False, fill='#000000', stroke='black'))"
   ]
  },
  {
   "cell_type": "code",
   "execution_count": null,
   "metadata": {},
   "outputs": [],
   "source": [
    "# Add stars to the background behind the aurora\n",
    "for i in range(20):\n",
    "    y = random.normalvariate(600,150)\n",
    "    x = random.uniform(0,600)\n",
    "    d.append(draw.Circle)"
   ]
  },
  {
   "cell_type": "code",
   "execution_count": 11,
   "metadata": {},
   "outputs": [],
   "source": [
    "# Create the base aurora over 5 iterations\n",
    "for i in range(20):\n",
    "    # Create a vertical line for each x coordinate\n",
    "    for x in range(800):\n",
    "        # Calculate the y coordinate\n",
    "        if 0 <= x < 300:\n",
    "            y = 500 + x/3\n",
    "        elif 300 <= x < 450:\n",
    "            y = 700 - x/3\n",
    "        elif 450 <= x < 600:\n",
    "            y = 400 + x/3\n",
    "        # Randomly generate the line height\n",
    "        h = random.normalvariate(200,25)\n",
    "        d.append(draw.Lines(x,y-h,x,y+h, close=False, fill='#00000003', stroke='#00ff3302'))"
   ]
  },
  {
   "cell_type": "code",
   "execution_count": 12,
   "metadata": {},
   "outputs": [],
   "source": [
    "# Create the blue emphasis aurora over 5 iterations\n",
    "for i in range(35):\n",
    "    # Create a vertical line for each x coordinate\n",
    "    for x in range(800):\n",
    "        # Calculate the y coordinate\n",
    "        if 0 <= x < 300:\n",
    "            y = 450 + (x*2)/3\n",
    "        elif 300 <= x < 450:\n",
    "            y = 850 - (x*2)/3\n",
    "        elif 450 <= x < 600:\n",
    "            y = 400 + x/3\n",
    "        # Randomly generate the line height\n",
    "        h = random.normalvariate(100,50)\n",
    "        d.append(draw.Lines(x,y-h,x,y+h, close=False, fill='#00000003', stroke='#0033ff01'))\n",
    "\n",
    "d.saveSvg('test.svg')"
   ]
  }
 ],
 "metadata": {
  "kernelspec": {
   "display_name": "Python 3",
   "language": "python",
   "name": "python3"
  },
  "language_info": {
   "codemirror_mode": {
    "name": "ipython",
    "version": 3
   },
   "file_extension": ".py",
   "mimetype": "text/x-python",
   "name": "python",
   "nbconvert_exporter": "python",
   "pygments_lexer": "ipython3",
   "version": "3.9.5"
  },
  "orig_nbformat": 4,
  "vscode": {
   "interpreter": {
    "hash": "11938c6bc6919ae2720b4d5011047913343b08a43b18698fd82dedb0d4417594"
   }
  }
 },
 "nbformat": 4,
 "nbformat_minor": 2
}
